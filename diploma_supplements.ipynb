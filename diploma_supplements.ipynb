{
  "nbformat": 4,
  "nbformat_minor": 0,
  "metadata": {
    "colab": {
      "provenance": []
    },
    "kernelspec": {
      "name": "python3",
      "display_name": "Python 3"
    },
    "language_info": {
      "name": "python"
    }
  },
  "cells": [
    {
      "cell_type": "markdown",
      "source": [
        "Для интеграции искусственного интеллекта в систему персонализированных рекомендаций можно построить рекомендательную систему с использованием методов **Collaborative Filtering** (коллаборативная фильтрация) и **Content-based Filtering** (контентно-ориентированная фильтрация). Эти подходы часто используются в рекомендациях, когда данные о пользователях и их предпочтениях могут быть применены для автоматической генерации персонализированных планов тренировок."
      ],
      "metadata": {
        "id": "whiNYOgyOrbo"
      }
    },
    {
      "cell_type": "markdown",
      "source": [
        "### **Подходы для создания рекомендательной системы:**\n",
        "* **Collaborative Filtering (коллаборативная фильтрация):**  \n",
        "Основана на анализе похожих пользователей: система предлагает рекомендации на основе того, какие тренировки и активности предпочитали пользователи с похожими паттернами поведения.\n",
        "* **Content-based Filtering (контентно-ориентированная фильтрация):**  \n",
        "Основана на предпочтениях самого пользователя: система использует индивидуальные данные (например, уровень активности, ЧСС, сон, шаги) для подбора рекомендаций на основе похожих тренировок, которые он ранее выполнял."
      ],
      "metadata": {
        "id": "gWZs4jYvO1Wn"
      }
    },
    {
      "cell_type": "markdown",
      "source": [
        "### **Шаги для создания рекомендательной системы:**\n",
        "1. **Сбор данных о предпочтениях пользователей:**  \n",
        "Необходимо собрать данные о том, какие тренировки и планы уже использовались пользователями, а также их отзывы о тренировках (например, успешность выполнения, удовлетворенность).\n",
        "2. **Построение матрицы взаимодействий:**  \n",
        "На основе данных взаимодействий пользователей с тренировками можно построить матрицу взаимодействий, которая будет использоваться для обучения модели.\n",
        "3. **Обучение модели:**  \n",
        "Обучим модель на основе метода коллаборативной фильтрации (например, ALS - Alternating Least Squares) или контентно-ориентированной фильтрации.\n",
        "4. **Рекомендации на основе предпочтений и похожих пользователей:**  \n",
        "Модель будет рекомендовать тренировки, которые похожи на те, что были выбраны пользователем ранее, либо на те, что понравились пользователям с похожими предпочтениями."
      ],
      "metadata": {
        "id": "slJqci0APE8B"
      }
    },
    {
      "cell_type": "markdown",
      "source": [
        "**Шаг 1: Сбор данных**"
      ],
      "metadata": {
        "id": "yb00vN8aPvP2"
      }
    },
    {
      "cell_type": "code",
      "execution_count": 1,
      "metadata": {
        "colab": {
          "base_uri": "https://localhost:8080/"
        },
        "id": "pjst9EsaNcZZ",
        "outputId": "af566ee9-ebc7-49c6-8bb8-8e2b44c6e13a"
      },
      "outputs": [
        {
          "output_type": "stream",
          "name": "stdout",
          "text": [
            "   UserId  WorkoutId  Rating\n",
            "0       1        101       1\n",
            "1       1        102       0\n",
            "2       2        101       1\n",
            "3       2        103       1\n",
            "4       3        102       1\n",
            "5       3        103       0\n",
            "6       4        101       1\n",
            "7       4        104       1\n"
          ]
        }
      ],
      "source": [
        "import pandas as pd\n",
        "\n",
        "# Данные о пользователях и их предпочтениях в тренировках (1 - понравилось, 0 - не понравилось)\n",
        "data = {'UserId': [1, 1, 2, 2, 3, 3, 4, 4],\n",
        "        'WorkoutId': [101, 102, 101, 103, 102, 103, 101, 104],\n",
        "        'Rating': [1, 0, 1, 1, 1, 0, 1, 1]}  # Оценки тренировок пользователями\n",
        "ratings_df = pd.DataFrame(data)\n",
        "print(ratings_df)\n"
      ]
    },
    {
      "cell_type": "markdown",
      "source": [
        "**Шаг 2: Коллаборативная фильтрация (ALS)**  \n",
        "Для создания рекомендаций на основе взаимодействий пользователей с тренировками можно использовать метод **ALS (Alternating Least Squares)**. Он позволит нам найти скрытые факторы, которые могут влиять на предпочтения пользователя.\n",
        "\n",
        "Использование библиотеки **surprise** для коллаборативной фильтрации:"
      ],
      "metadata": {
        "id": "kVKsoJP8PxsA"
      }
    },
    {
      "cell_type": "code",
      "source": [
        "!pip install scikit-surprise\n"
      ],
      "metadata": {
        "colab": {
          "base_uri": "https://localhost:8080/"
        },
        "id": "M6fQpyfgRe1d",
        "outputId": "49bbaeea-3ab3-47bc-a7a7-5d07d92755b5"
      },
      "execution_count": 3,
      "outputs": [
        {
          "output_type": "stream",
          "name": "stdout",
          "text": [
            "Collecting scikit-surprise\n",
            "  Downloading scikit_surprise-1.1.4.tar.gz (154 kB)\n",
            "\u001b[?25l     \u001b[90m━━━━━━━━━━━━━━━━━━━━━━━━━━━━━━━━━━━━━━━━\u001b[0m \u001b[32m0.0/154.4 kB\u001b[0m \u001b[31m?\u001b[0m eta \u001b[36m-:--:--\u001b[0m\r\u001b[2K     \u001b[91m━━━━━━━━━━━━━━━━━━━━━━━━━━━━━━━━━━━━━━━\u001b[0m\u001b[91m╸\u001b[0m \u001b[32m153.6/154.4 kB\u001b[0m \u001b[31m4.7 MB/s\u001b[0m eta \u001b[36m0:00:01\u001b[0m\r\u001b[2K     \u001b[90m━━━━━━━━━━━━━━━━━━━━━━━━━━━━━━━━━━━━━━━━\u001b[0m \u001b[32m154.4/154.4 kB\u001b[0m \u001b[31m3.2 MB/s\u001b[0m eta \u001b[36m0:00:00\u001b[0m\n",
            "\u001b[?25h  Installing build dependencies ... \u001b[?25l\u001b[?25hdone\n",
            "  Getting requirements to build wheel ... \u001b[?25l\u001b[?25hdone\n",
            "  Preparing metadata (pyproject.toml) ... \u001b[?25l\u001b[?25hdone\n",
            "Requirement already satisfied: joblib>=1.2.0 in /usr/local/lib/python3.10/dist-packages (from scikit-surprise) (1.4.2)\n",
            "Requirement already satisfied: numpy>=1.19.5 in /usr/local/lib/python3.10/dist-packages (from scikit-surprise) (1.26.4)\n",
            "Requirement already satisfied: scipy>=1.6.0 in /usr/local/lib/python3.10/dist-packages (from scikit-surprise) (1.13.1)\n",
            "Building wheels for collected packages: scikit-surprise\n",
            "  Building wheel for scikit-surprise (pyproject.toml) ... \u001b[?25l\u001b[?25hdone\n",
            "  Created wheel for scikit-surprise: filename=scikit_surprise-1.1.4-cp310-cp310-linux_x86_64.whl size=2357292 sha256=2c74d0a66fb7a2dc8f1a790cac0873ff7267e673f13dcd16741562456de59d7d\n",
            "  Stored in directory: /root/.cache/pip/wheels/4b/3f/df/6acbf0a40397d9bf3ff97f582cc22fb9ce66adde75bc71fd54\n",
            "Successfully built scikit-surprise\n",
            "Installing collected packages: scikit-surprise\n",
            "Successfully installed scikit-surprise-1.1.4\n"
          ]
        }
      ]
    },
    {
      "cell_type": "code",
      "source": [
        "from surprise import Dataset, Reader, SVD\n",
        "from surprise.model_selection import train_test_split\n",
        "from surprise import accuracy\n",
        "\n",
        "# Подготовка данных для коллаборативной фильтрации\n",
        "reader = Reader(rating_scale=(0, 1))  # Рейтинги 0 или 1\n",
        "data = Dataset.load_from_df(ratings_df[['UserId', 'WorkoutId', 'Rating']], reader)\n",
        "\n",
        "# Разделяем данные на обучающую и тестовую выборки\n",
        "trainset, testset = train_test_split(data, test_size=0.2)\n",
        "\n",
        "# Используем SVD для коллаборативной фильтрации\n",
        "model = SVD()\n",
        "model.fit(trainset)\n",
        "\n",
        "# Прогнозируем на тестовой выборке\n",
        "predictions = model.test(testset)\n",
        "\n",
        "# Оценка модели\n",
        "accuracy.rmse(predictions)\n",
        "\n"
      ],
      "metadata": {
        "colab": {
          "base_uri": "https://localhost:8080/"
        },
        "id": "CS4I3Y6yPyGY",
        "outputId": "2b71bb27-effd-43ec-d779-86eff693f96f"
      },
      "execution_count": 4,
      "outputs": [
        {
          "output_type": "stream",
          "name": "stdout",
          "text": [
            "RMSE: 0.3941\n"
          ]
        },
        {
          "output_type": "execute_result",
          "data": {
            "text/plain": [
              "0.3940980428505354"
            ]
          },
          "metadata": {},
          "execution_count": 4
        }
      ]
    },
    {
      "cell_type": "markdown",
      "source": [
        "**Шаг 3: Генерация рекомендаций для пользователей**  \n",
        "Теперь, обучив модель, мы можем давать пользователям персонализированные рекомендации по тренировкам на основе их прошлых предпочтений и взаимодействий.\n",
        "\n",
        "Пример рекомендаций для конкретного пользователя:"
      ],
      "metadata": {
        "id": "_oIVIalKQFTW"
      }
    },
    {
      "cell_type": "code",
      "source": [
        "# Прогноз для конкретного пользователя\n",
        "user_id = 1  # Идентификатор пользователя\n",
        "workout_id = 103  # Идентификатор тренировки\n",
        "\n",
        "predicted_rating = model.predict(user_id, workout_id)\n",
        "print(f\"Предсказанный рейтинг для пользователя {user_id} на тренировку {workout_id}: {predicted_rating.est}\")\n",
        "\n",
        "# Получение рекомендаций для пользователя\n",
        "workouts = ratings_df['WorkoutId'].unique()\n",
        "recommendations = []\n",
        "\n",
        "for workout in workouts:\n",
        "    if workout not in ratings_df[ratings_df['UserId'] == user_id]['WorkoutId'].values:\n",
        "        pred = model.predict(user_id, workout)\n",
        "        recommendations.append((workout, pred.est))\n",
        "\n",
        "# Сортировка по наивысшему рейтингу\n",
        "recommendations.sort(key=lambda x: x[1], reverse=True)\n",
        "\n",
        "# Вывод топ-3 тренировок для пользователя\n",
        "top_recommendations = recommendations[:3]\n",
        "print(\"Рекомендуемые тренировки для пользователя:\")\n",
        "for workout, rating in top_recommendations:\n",
        "    print(f\"Тренировка {workout}, предсказанный рейтинг: {rating:.2f}\")\n"
      ],
      "metadata": {
        "colab": {
          "base_uri": "https://localhost:8080/"
        },
        "id": "yi5j1J5fQIX8",
        "outputId": "73eb9127-66aa-42c3-9ccf-1f8595c5eef7"
      },
      "execution_count": 5,
      "outputs": [
        {
          "output_type": "stream",
          "name": "stdout",
          "text": [
            "Предсказанный рейтинг для пользователя 1 на тренировку 103: 0.5596659505715381\n",
            "Рекомендуемые тренировки для пользователя:\n",
            "Тренировка 104, предсказанный рейтинг: 0.62\n",
            "Тренировка 103, предсказанный рейтинг: 0.56\n"
          ]
        }
      ]
    },
    {
      "cell_type": "markdown",
      "source": [
        "**Шаг 4: Контентно-ориентированная фильтрация**\n",
        "Мы также можем создать контентно-ориентированную фильтрацию, которая будет учитывать данные о тренировках (например, типы тренировок, интенсивность, количество шагов) и подбирать наиболее подходящие на основе предпочтений пользователя.\n",
        "\n",
        "Пример реализации:"
      ],
      "metadata": {
        "id": "A_16l6YWQNGH"
      }
    },
    {
      "cell_type": "code",
      "source": [
        "# Пример данных о тренировках (WorkoutId, тип тренировки, интенсивность)\n",
        "workouts_data = {\n",
        "    'WorkoutId': [101, 102, 103, 104],\n",
        "    'WorkoutType': ['Cardio', 'Strength', 'Flexibility', 'Endurance'],\n",
        "    'Intensity': [3, 4, 2, 5]  # Интенсивность тренировки\n",
        "}\n",
        "workouts_df = pd.DataFrame(workouts_data)\n",
        "\n",
        "# Данные о предпочтениях пользователя\n",
        "user_preferences = {\n",
        "    'PreferredType': 'Cardio',  # Предпочитаемый тип тренировки\n",
        "    'PreferredIntensity': 3     # Предпочитаемая интенсивность\n",
        "}\n",
        "\n",
        "# Фильтрация тренировок на основе предпочтений пользователя\n",
        "filtered_workouts = workouts_df[\n",
        "    (workouts_df['WorkoutType'] == user_preferences['PreferredType']) &\n",
        "    (workouts_df['Intensity'] == user_preferences['PreferredIntensity'])\n",
        "]\n",
        "\n",
        "print(\"Рекомендованные тренировки на основе контентной фильтрации:\")\n",
        "print(filtered_workouts)\n"
      ],
      "metadata": {
        "colab": {
          "base_uri": "https://localhost:8080/"
        },
        "id": "P0wkgM07QVPF",
        "outputId": "1e31fbd5-f48c-43f4-d2b1-cb5764896924"
      },
      "execution_count": 6,
      "outputs": [
        {
          "output_type": "stream",
          "name": "stdout",
          "text": [
            "Рекомендованные тренировки на основе контентной фильтрации:\n",
            "   WorkoutId WorkoutType  Intensity\n",
            "0        101      Cardio          3\n"
          ]
        }
      ]
    },
    {
      "cell_type": "markdown",
      "source": [
        "**Шаг 5: Интеграция рекомендаций в систему**\n",
        "После создания модели рекомендаций (как коллаборативной, так и контентно-ориентированной) можно интегрировать её в систему:\n",
        "\n",
        "* **Объединение с уже созданной системой адаптивных тренировок:**   \n",
        "  Рекомендации могут быть частью более общей системы, где пользователь получает как персонализированный план тренировок, так и рекомендации по типам тренировок на основе своих предпочтений.\n",
        "\n",
        "* **Автоматическое обновление предпочтений:**   \n",
        "  Система может обучаться в реальном времени на данных взаимодействий пользователя с тренировками (например, сколько раз пользователь выполнял определённые тренировки и насколько они ему понравились).\n",
        "\n",
        "* **Динамическая адаптация рекомендаций:**   \n",
        "  Рекомендации могут автоматически обновляться в зависимости от изменений в предпочтениях пользователя (например, при изменении целей или уровня активности)."
      ],
      "metadata": {
        "id": "7qwDk98tQbbr"
      }
    }
  ]
}