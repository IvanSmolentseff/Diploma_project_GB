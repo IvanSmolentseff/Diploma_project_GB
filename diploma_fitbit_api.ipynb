{
  "nbformat": 4,
  "nbformat_minor": 0,
  "metadata": {
    "colab": {
      "provenance": []
    },
    "kernelspec": {
      "name": "python3",
      "display_name": "Python 3"
    },
    "language_info": {
      "name": "python"
    }
  },
  "cells": [
    {
      "cell_type": "markdown",
      "source": [
        "# Основные шаги для интеграции Fitbit API:\n"
      ],
      "metadata": {
        "id": "i6andvcVW18Q"
      }
    },
    {
      "cell_type": "markdown",
      "source": [
        "## Шаг 1: Регистрация приложения в Fitbit API\n",
        "Зарегистрируйте своё приложение на Fitbit Developer Portal. Вам нужно будет указать:\n",
        "- Имя приложения.\n",
        "- URL-адрес перенаправления (для получения токена аутентификации).\n",
        "- Описание приложения.\n",
        "После регистрации вы получите **Client ID** и **Client Secret** для аутентификации через **OAuth 2.0**."
      ],
      "metadata": {
        "id": "06xhMZWGW14e"
      }
    },
    {
      "cell_type": "markdown",
      "source": [
        "## Шаг 2: Аутентификация через OAuth 2.0  \n",
        "\n",
        "- Fitbit API использует OAuth 2.0 для аутентификации. Пользователь должен предоставить разрешение на доступ к своим данным.\n",
        "- После успешной аутентификации ваше приложение сможет запрашивать данные пользователя, такие как шаги, частота сердечных сокращений, калории и сон.\n",
        "\n",
        "Пример кода для аутентификации через OAuth 2.0:"
      ],
      "metadata": {
        "id": "zhmKOl9uW11-"
      }
    },
    {
      "cell_type": "code",
      "source": [
        "import requests\n",
        "from requests.auth import HTTPBasicAuth\n",
        "import json\n",
        "\n",
        "# Fitbit API credentials\n",
        "client_id = 'your_client_id'\n",
        "client_secret = 'your_client_secret'\n",
        "redirect_uri = 'your_redirect_uri'  # Example: 'https://yourapp.com/callback'\n",
        "\n",
        "# Step 1: Redirect user to authorize page\n",
        "auth_url = f\"https://www.fitbit.com/oauth2/authorize?response_type=code&client_id={client_id}&redirect_uri={redirect_uri}&scope=activity%20heartrate%20sleep\"\n",
        "print(f\"Please visit this URL to authorize your app: {auth_url}\")\n",
        "\n",
        "# Step 2: User provides the authorization code\n",
        "auth_code = input(\"Enter the authorization code here: \")\n",
        "\n",
        "# Step 3: Exchange authorization code for access token\n",
        "token_url = 'https://api.fitbit.com/oauth2/token'\n",
        "response = requests.post(token_url,\n",
        "                         data={\n",
        "                             'client_id': client_id,\n",
        "                             'grant_type': 'authorization_code',\n",
        "                             'redirect_uri': redirect_uri,\n",
        "                             'code': auth_code\n",
        "                         },\n",
        "                         auth=HTTPBasicAuth(client_id, client_secret))\n",
        "\n",
        "tokens = response.json()\n",
        "access_token = tokens['access_token']\n",
        "print(f\"Access token: {access_token}\")\n"
      ],
      "metadata": {
        "id": "LTXlh7NPXlcq"
      },
      "execution_count": null,
      "outputs": []
    },
    {
      "cell_type": "markdown",
      "source": [
        "## Шаг 3: Получение данных из Fitbit API  \n",
        "\n",
        "- Fitbit предоставляет различные эндпоинты для получения данных о физической активности, ЧСС, калориях и т.д.\n",
        "- Можно использовать такие запросы, как получение данных о шагах за последние 7 дней, данных о ЧСС в реальном времени и т.д.\n",
        "\n",
        "Примеры запросов для получения данных:"
      ],
      "metadata": {
        "id": "NiDb8COdW1zd"
      }
    },
    {
      "cell_type": "code",
      "source": [
        "# Запрос данных о шагах за последние 7 дней\n",
        "headers = {\n",
        "    'Authorization': f'Bearer {access_token}'\n",
        "}\n",
        "steps_url = 'https://api.fitbit.com/1/user/-/activities/steps/date/today/7d.json'\n",
        "response = requests.get(steps_url, headers=headers)\n",
        "steps_data = response.json()\n",
        "\n",
        "# Пример вывода данных о шагах\n",
        "for day in steps_data['activities-steps']:\n",
        "    print(f\"Date: {day['dateTime']}, Steps: {day['value']}\")\n"
      ],
      "metadata": {
        "id": "kBmGq2GYYDyJ"
      },
      "execution_count": null,
      "outputs": []
    },
    {
      "cell_type": "code",
      "source": [
        "# Запрос данных о ЧСС\n",
        "heartrate_url = 'https://api.fitbit.com/1/user/-/activities/heart/date/today/1d.json'\n",
        "response = requests.get(heartrate_url, headers=headers)\n",
        "heartrate_data = response.json()\n",
        "\n",
        "# Пример вывода данных о ЧСС\n",
        "for record in heartrate_data['activities-heart']:\n",
        "    print(f\"Date: {record['dateTime']}, Resting Heart Rate: {record['value']['restingHeartRate']}\")\n"
      ],
      "metadata": {
        "id": "_jxenq7FYH1z"
      },
      "execution_count": null,
      "outputs": []
    },
    {
      "cell_type": "markdown",
      "source": [
        "## Шаг 4: Интеграция данных в систему рекомендаций  \n",
        "\n",
        "- Данные, полученные с помощью Fitbit API, будут поступать в вашу систему, где они могут быть использованы для обновления прогнозов и планов тренировок.\n",
        "- Появится возможность анализировать данные в режиме реального времени и предоставлять динамические рекомендации на основе актуальных показателей пользователя.\n",
        "\n",
        "Пример динамической интеграции:"
      ],
      "metadata": {
        "id": "qsXKjugXW1w0"
      }
    },
    {
      "cell_type": "code",
      "source": [
        "# Функция для динамического обновления тренировочного плана\n",
        "def dynamic_training_plan(steps, heartrate, calories, sleep_minutes):\n",
        "    if steps < 5000 and heartrate < 70:\n",
        "        return \"Сегодня рекомендуется увеличить активность: 30 минут кардио и 20 минут силовых упражнений.\"\n",
        "    elif steps > 10000 and calories > 2000:\n",
        "        return \"Ваш уровень активности высок, продолжайте в том же духе! Рекомендуется добавить тренировки на выносливость.\"\n",
        "    elif sleep_minutes < 360:\n",
        "        return \"Убедитесь, что у вас достаточно сна. Рекомендуется сделать акцент на восстановление и расслабляющие упражнения.\"\n",
        "    else:\n",
        "        return \"Поддерживайте текущий уровень активности и следите за показателями ЧСС и сна.\"\n",
        "\n",
        "# Пример вызова функции с данными от Fitbit API\n",
        "steps_today = 8000  # Получено из Fitbit API\n",
        "heartrate_today = 72  # Получено из Fitbit API\n",
        "calories_today = 2200  # Получено из Fitbit API\n",
        "sleep_today = 420  # Получено из Fitbit API\n",
        "\n",
        "recommendation = dynamic_training_plan(steps_today, heartrate_today, calories_today, sleep_today)\n",
        "print(recommendation)\n"
      ],
      "metadata": {
        "id": "Lw5IHZ3NYj63"
      },
      "execution_count": null,
      "outputs": []
    },
    {
      "cell_type": "markdown",
      "source": [
        "# Шаг 5: Расширение рекомендаций на основе данных\n",
        "Вы можете расширить возможности системы рекомендаций, добавив больше данных и усложнив логику:  \n",
        "- Сравнение прогресса за несколько недель.\n",
        "- Отслеживание долгосрочных тенденций в активности и восстановлении.\n",
        "- Адаптация тренировочных планов в зависимости от времени года или событий (например, подготовка к марафону)."
      ],
      "metadata": {
        "id": "q8MuElK7W1uN"
      }
    },
    {
      "cell_type": "markdown",
      "source": [
        "## Заключение:\n",
        "- Интеграция Fitbit API позволит вашей системе получать данные в реальном времени, что существенно улучшит качество прогнозов и рекомендаций.\n",
        "- Аутентификация через OAuth 2.0 обеспечивает безопасный доступ к данным пользователя.\n",
        "- Запросы к API позволяют собирать данные о шагах, ЧСС, калориях и сне, которые могут использоваться для построения индивидуальных планов тренировок.\n",
        "- Динамическая адаптация тренировок на основе данных пользователя позволяет системе стать более гибкой и персонализированной."
      ],
      "metadata": {
        "id": "HX67v905W1ov"
      }
    }
  ]
}